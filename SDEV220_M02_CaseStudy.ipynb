{
 "cells": [
  {
   "cell_type": "code",
   "execution_count": null,
   "id": "9edf223d-52ef-4900-acea-9e14a86d1d51",
   "metadata": {},
   "outputs": [
    {
     "name": "stdin",
     "output_type": "stream",
     "text": [
      "What is your last name? Enter ZZZ to quit. me\n",
      "What is your first name? you\n",
      "What is your current GPA? 3.3\n"
     ]
    },
    {
     "name": "stdout",
     "output_type": "stream",
     "text": [
      "you me You have made the Honor Roll!\n"
     ]
    },
    {
     "name": "stdin",
     "output_type": "stream",
     "text": [
      "What is your last name? Enter ZZZ to quit. ha\n",
      "What is your first name? ja\n",
      "What is your current GPA? 3.6\n"
     ]
    },
    {
     "name": "stdout",
     "output_type": "stream",
     "text": [
      "ja ha You have made the Dean's List!\n"
     ]
    },
    {
     "name": "stdin",
     "output_type": "stream",
     "text": [
      "What is your last name? Enter ZZZ to quit. re\n",
      "What is your first name? ko\n",
      "What is your current GPA? 2.8\n",
      "What is your last name? Enter ZZZ to quit. Koin\n",
      "What is your first name? Going\n",
      "What is your current GPA? 4.0\n"
     ]
    },
    {
     "name": "stdout",
     "output_type": "stream",
     "text": [
      "Going Koin You have made the Dean's List!\n"
     ]
    },
    {
     "name": "stdin",
     "output_type": "stream",
     "text": [
      "What is your last name? Enter ZZZ to quit. Far\n",
      "What is your first name? Bar\n",
      "What is your current GPA? 3.2\n"
     ]
    }
   ],
   "source": [
    "## Amy Jarvis\n",
    "## SDEV220_M02_CaseStudy\n",
    "## This application is designed to take the user input of a student's last name. If the name is the same as the breaking sequence \"ZZZ\", \n",
    "## the app will stop running, otherwise the program will continue to run. Next it will ask for the user's firstname and current GPA. \n",
    "## A comparison of the GPA will be made to see if the student will fall under the Dean's List with a GPA of 3.5 or greater, or the Honor\n",
    "## Roll with a GPA of 3.25 to 3.49. The output will consist of the student's first name, last name, and a brief message if they meet either\n",
    "## the Dean's List or Honor Roll criteria. Is the student's GPA is under 3.25 no message will appear and the program will loop until the break sequence \n",
    "## is entered.\n",
    "## variables:\n",
    "## last_name = the user's last name\n",
    "## first_name = the user's first name\n",
    "## gpa = the user's grade point average (GPA)\n",
    "\n",
    "while True:\n",
    "    last_name = input(\"What is your last name? Enter ZZZ to quit.\") \n",
    "    if last_name == \"ZZZ\":\n",
    "        break\n",
    "    else:\n",
    "        first_name = input(\"What is your first name?\")\n",
    "        gpa = float(input(\"What is your current GPA?\"))\n",
    "        if gpa >= 3.5:\n",
    "            print(first_name + \" \" + last_name, \"You have made the Dean's List!\")\n",
    "        elif gpa >= 3.25:\n",
    "            print(first_name + \" \" + last_name, \"You have made the Honor Roll!\")\n"
   ]
  },
  {
   "cell_type": "code",
   "execution_count": null,
   "id": "e1cf0f15-5b6e-48ae-86d4-a7452f0d7b00",
   "metadata": {},
   "outputs": [],
   "source": []
  }
 ],
 "metadata": {
  "kernelspec": {
   "display_name": "Python 3 (ipykernel)",
   "language": "python",
   "name": "python3"
  },
  "language_info": {
   "codemirror_mode": {
    "name": "ipython",
    "version": 3
   },
   "file_extension": ".py",
   "mimetype": "text/x-python",
   "name": "python",
   "nbconvert_exporter": "python",
   "pygments_lexer": "ipython3",
   "version": "3.12.4"
  }
 },
 "nbformat": 4,
 "nbformat_minor": 5
}
